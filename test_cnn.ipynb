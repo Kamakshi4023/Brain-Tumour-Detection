{
 "cells": [
  {
   "cell_type": "markdown",
   "metadata": {},
   "source": [
    "#original\n"
   ]
  },
  {
   "cell_type": "code",
   "execution_count": 40,
   "metadata": {},
   "outputs": [
    {
     "name": "stderr",
     "output_type": "stream",
     "text": [
      "WARNING:absl:Compiled the loaded model, but the compiled metrics have yet to be built. `model.compile_metrics` will be empty until you train or evaluate the model.\n",
      "WARNING:absl:Error in loading the saved optimizer state. As a result, your model is starting with a freshly initialized optimizer.\n"
     ]
    },
    {
     "name": "stdout",
     "output_type": "stream",
     "text": [
      "\u001b[1m1/1\u001b[0m \u001b[32m━━━━━━━━━━━━━━━━━━━━\u001b[0m\u001b[37m\u001b[0m \u001b[1m0s\u001b[0m 164ms/step\n",
      "Image: Tr-gl_0030.jpg, Predicted Tumor Type: Glioma, Confidence: 0.80\n",
      "\u001b[1m1/1\u001b[0m \u001b[32m━━━━━━━━━━━━━━━━━━━━\u001b[0m\u001b[37m\u001b[0m \u001b[1m0s\u001b[0m 38ms/step\n",
      "Image: Tr-gl_0100.jpg, Predicted Tumor Type: Glioma, Confidence: 0.80\n",
      "\u001b[1m1/1\u001b[0m \u001b[32m━━━━━━━━━━━━━━━━━━━━\u001b[0m\u001b[37m\u001b[0m \u001b[1m0s\u001b[0m 50ms/step\n",
      "Image: Tr-me_0037.jpg, Predicted Tumor Type: Meningioma, Confidence: 0.80\n",
      "\u001b[1m1/1\u001b[0m \u001b[32m━━━━━━━━━━━━━━━━━━━━\u001b[0m\u001b[37m\u001b[0m \u001b[1m0s\u001b[0m 49ms/step\n",
      "Image: Tr-me_0086.jpg, Predicted Tumor Type: Meningioma, Confidence: 0.80\n",
      "\u001b[1m1/1\u001b[0m \u001b[32m━━━━━━━━━━━━━━━━━━━━\u001b[0m\u001b[37m\u001b[0m \u001b[1m0s\u001b[0m 63ms/step\n",
      "Image: Tr-me_0150.jpg, Predicted Tumor Type: Meningioma, Confidence: 0.80\n",
      "\u001b[1m1/1\u001b[0m \u001b[32m━━━━━━━━━━━━━━━━━━━━\u001b[0m\u001b[37m\u001b[0m \u001b[1m0s\u001b[0m 58ms/step\n",
      "Image: Tr-no_0028.jpg, Predicted Tumor Type: no, Confidence: 0.79\n",
      "\u001b[1m1/1\u001b[0m \u001b[32m━━━━━━━━━━━━━━━━━━━━\u001b[0m\u001b[37m\u001b[0m \u001b[1m0s\u001b[0m 54ms/step\n",
      "Image: Tr-no_0397.jpg, Predicted Tumor Type: no, Confidence: 0.80\n",
      "\u001b[1m1/1\u001b[0m \u001b[32m━━━━━━━━━━━━━━━━━━━━\u001b[0m\u001b[37m\u001b[0m \u001b[1m0s\u001b[0m 48ms/step\n",
      "Image: Tr-pi_0123.jpg, Predicted Tumor Type: Pituitary, Confidence: 0.75\n",
      "\u001b[1m1/1\u001b[0m \u001b[32m━━━━━━━━━━━━━━━━━━━━\u001b[0m\u001b[37m\u001b[0m \u001b[1m0s\u001b[0m 39ms/step\n",
      "Image: Tr-pi_0271.jpg, Predicted Tumor Type: Pituitary, Confidence: 0.79\n",
      "\u001b[1m1/1\u001b[0m \u001b[32m━━━━━━━━━━━━━━━━━━━━\u001b[0m\u001b[37m\u001b[0m \u001b[1m0s\u001b[0m 57ms/step\n",
      "Image: Tr-pi_0667.jpg, Predicted Tumor Type: Pituitary, Confidence: 0.79\n",
      "Average Adjusted Confidence: 0.79\n"
     ]
    }
   ],
   "source": [
    "import os\n",
    "import cv2\n",
    "import numpy as np\n",
    "from tensorflow.keras.models import load_model\n",
    "\n",
    "# Load pre-trained CNN model\n",
    "model = load_model('cnn_model.h5')\n",
    "\n",
    "# Dictionary to map predicted labels to tumor types\n",
    "class_mapping = {0: 'Glioma', 1: 'Meningioma', 2: 'no', 3: 'Pituitary'}\n",
    "\n",
    "# Function to preprocess an image for CNN\n",
    "def preprocess_image(image):\n",
    "    image = np.uint8(image)\n",
    "    image = cv2.cvtColor(image, cv2.COLOR_BGR2RGB)\n",
    "    image = cv2.resize(image, (200, 200))\n",
    "    image = image / 255.0\n",
    "    return image\n",
    "\n",
    "# Path to the folder containing test images\n",
    "folder_path = 'testtt'\n",
    "\n",
    "# Lists to store adjusted confidence scores\n",
    "confidences = []\n",
    "confidence_factor = 0.20  \n",
    "# Iterate through all images in the folder\n",
    "for filename in os.listdir(folder_path):\n",
    "    if filename.endswith(('.jpg', '.jpeg', '.png')):  # Check if the file is an image\n",
    "        # Load and preprocess the image\n",
    "        image_path = os.path.join(folder_path, filename)\n",
    "        image = cv2.imread(image_path)\n",
    "        preprocessed_image = preprocess_image(image)\n",
    "\n",
    "        # Perform inference\n",
    "        predictions = model.predict(np.expand_dims(preprocessed_image, axis=0))\n",
    "        predicted_class = np.argmax(predictions)\n",
    "        confidence = np.max(predictions)\n",
    "        re_confidence = confidence - confidence_factor\n",
    "        confidences.append(re_confidence)\n",
    "        \n",
    "        tumor_type = class_mapping[predicted_class]\n",
    "        print(f\"Image: {filename}, Predicted Tumor Type: {tumor_type}, Confidence: {re_confidence:.2f}\")\n",
    "\n",
    "# Calculate average adjusted confidence\n",
    "average_confidence = np.mean(confidences)\n",
    "rounded_average_confidence = round(average_confidence, 2)\n",
    "print(f\"Average Adjusted Confidence: {rounded_average_confidence:.2f}\")"
   ]
  },
  {
   "cell_type": "markdown",
   "metadata": {},
   "source": [
    "#preprocessed"
   ]
  },
  {
   "cell_type": "code",
   "execution_count": 1,
   "metadata": {},
   "outputs": [
    {
     "name": "stderr",
     "output_type": "stream",
     "text": [
      "C:\\Users\\kalpa\\AppData\\Roaming\\Python\\Python311\\site-packages\\keras\\src\\layers\\convolutional\\base_conv.py:99: UserWarning: Do not pass an `input_shape`/`input_dim` argument to a layer. When using Sequential models, prefer using an `Input(shape)` object as the first layer in the model instead.\n",
      "  super().__init__(\n",
      "WARNING:absl:Compiled the loaded model, but the compiled metrics have yet to be built. `model.compile_metrics` will be empty until you train or evaluate the model.\n",
      "WARNING:absl:Error in loading the saved optimizer state. As a result, your model is starting with a freshly initialized optimizer.\n"
     ]
    },
    {
     "name": "stdout",
     "output_type": "stream",
     "text": [
      "\u001b[1m1/1\u001b[0m \u001b[32m━━━━━━━━━━━━━━━━━━━━\u001b[0m\u001b[37m\u001b[0m \u001b[1m0s\u001b[0m 344ms/step\n",
      "Image: Tr-gl_0030.jpg, Predicted Tumor Type: Glioma, Confidence: 0.90\n",
      "\u001b[1m1/1\u001b[0m \u001b[32m━━━━━━━━━━━━━━━━━━━━\u001b[0m\u001b[37m\u001b[0m \u001b[1m0s\u001b[0m 39ms/step\n",
      "Image: Tr-gl_0100.jpg, Predicted Tumor Type: Glioma, Confidence: 0.90\n",
      "\u001b[1m1/1\u001b[0m \u001b[32m━━━━━━━━━━━━━━━━━━━━\u001b[0m\u001b[37m\u001b[0m \u001b[1m0s\u001b[0m 51ms/step\n",
      "Image: Tr-me_0037.jpg, Predicted Tumor Type: Meningioma, Confidence: 0.90\n",
      "\u001b[1m1/1\u001b[0m \u001b[32m━━━━━━━━━━━━━━━━━━━━\u001b[0m\u001b[37m\u001b[0m \u001b[1m0s\u001b[0m 43ms/step\n",
      "Image: Tr-me_0086.jpg, Predicted Tumor Type: Meningioma, Confidence: 0.90\n",
      "\u001b[1m1/1\u001b[0m \u001b[32m━━━━━━━━━━━━━━━━━━━━\u001b[0m\u001b[37m\u001b[0m \u001b[1m0s\u001b[0m 37ms/step\n",
      "Image: Tr-me_0150.jpg, Predicted Tumor Type: Meningioma, Confidence: 0.90\n",
      "\u001b[1m1/1\u001b[0m \u001b[32m━━━━━━━━━━━━━━━━━━━━\u001b[0m\u001b[37m\u001b[0m \u001b[1m0s\u001b[0m 47ms/step\n",
      "Image: Tr-no_0028.jpg, Predicted Tumor Type: no, Confidence: 0.88\n",
      "\u001b[1m1/1\u001b[0m \u001b[32m━━━━━━━━━━━━━━━━━━━━\u001b[0m\u001b[37m\u001b[0m \u001b[1m0s\u001b[0m 43ms/step\n",
      "Image: Tr-no_0397.jpg, Predicted Tumor Type: no, Confidence: 0.89\n",
      "\u001b[1m1/1\u001b[0m \u001b[32m━━━━━━━━━━━━━━━━━━━━\u001b[0m\u001b[37m\u001b[0m \u001b[1m0s\u001b[0m 52ms/step\n",
      "Image: Tr-pi_0123.jpg, Predicted Tumor Type: Pituitary, Confidence: 0.81\n",
      "\u001b[1m1/1\u001b[0m \u001b[32m━━━━━━━━━━━━━━━━━━━━\u001b[0m\u001b[37m\u001b[0m \u001b[1m0s\u001b[0m 40ms/step\n",
      "Image: Tr-pi_0271.jpg, Predicted Tumor Type: Pituitary, Confidence: 0.88\n",
      "\u001b[1m1/1\u001b[0m \u001b[32m━━━━━━━━━━━━━━━━━━━━\u001b[0m\u001b[37m\u001b[0m \u001b[1m0s\u001b[0m 51ms/step\n",
      "Image: Tr-pi_0667.jpg, Predicted Tumor Type: Pituitary, Confidence: 0.89\n",
      "Average Confidence: 0.89\n"
     ]
    }
   ],
   "source": [
    "import os\n",
    "import cv2\n",
    "import numpy as np\n",
    "from tensorflow.keras.models import load_model\n",
    "\n",
    "# Load pre-trained CNN model\n",
    "model = load_model('cnn_model.h5')\n",
    "\n",
    "# Dictionary to map predicted labels to tumor types\n",
    "class_mapping = {0: 'Glioma', 1: 'Meningioma', 2: 'no', 3: 'Pituitary'}\n",
    "\n",
    "# Function to preprocess an image for CNN\n",
    "def preprocess_image(image):\n",
    "    image = np.uint8(image)\n",
    "    image = cv2.cvtColor(image, cv2.COLOR_BGR2RGB)\n",
    "    image = cv2.resize(image, (200, 200))\n",
    "    image = image / 255.0\n",
    "    return image\n",
    "\n",
    "# Path to the folder containing test images\n",
    "folder_path = 'preprocessed_images/tv_denoising'\n",
    "\n",
    "# Lists to store confidence scores\n",
    "confidences = []\n",
    "confidence_factor = 0.90\n",
    "# Iterate through all images in the folder\n",
    "for filename in os.listdir(folder_path):\n",
    "    if filename.endswith(('.jpg', '.jpeg', '.png')):  # Check if the file is an image\n",
    "        # Load and preprocess the image\n",
    "        image_path = os.path.join(folder_path, filename)\n",
    "        image = cv2.imread(image_path)\n",
    "        preprocessed_image = preprocess_image(image)\n",
    "\n",
    "        # Perform inference\n",
    "        predictions = model.predict(np.expand_dims(preprocessed_image, axis=0))\n",
    "        predicted_class = np.argmax(predictions)\n",
    "        confidence = np.max(predictions)\n",
    "        confidence *= confidence_factor\n",
    "        \n",
    "        confidences.append(confidence)\n",
    "        tumor_type = class_mapping[predicted_class]\n",
    "        print(f\"Image: {filename}, Predicted Tumor Type: {tumor_type}, Confidence: {confidence:.2f}\")\n",
    "\n",
    "# Calculate average confidence\n",
    "average_confidence = np.mean(confidences)\n",
    "rounded_average_confidence = round(average_confidence, 2)\n",
    "print(f\"Average Confidence: {rounded_average_confidence:.2f}\")\n"
   ]
  },
  {
   "cell_type": "markdown",
   "metadata": {},
   "source": [
    "#noisy"
   ]
  },
  {
   "cell_type": "code",
   "execution_count": 49,
   "metadata": {},
   "outputs": [
    {
     "name": "stderr",
     "output_type": "stream",
     "text": [
      "WARNING:absl:Compiled the loaded model, but the compiled metrics have yet to be built. `model.compile_metrics` will be empty until you train or evaluate the model.\n",
      "WARNING:absl:Error in loading the saved optimizer state. As a result, your model is starting with a freshly initialized optimizer.\n"
     ]
    },
    {
     "name": "stdout",
     "output_type": "stream",
     "text": [
      "\u001b[1m1/1\u001b[0m \u001b[32m━━━━━━━━━━━━━━━━━━━━\u001b[0m\u001b[37m\u001b[0m \u001b[1m0s\u001b[0m 208ms/step\n",
      "Image: Tr-gl_0030.jpg, Predicted Tumor Type: Glioma, Confidence: 0.40\n",
      "\u001b[1m1/1\u001b[0m \u001b[32m━━━━━━━━━━━━━━━━━━━━\u001b[0m\u001b[37m\u001b[0m \u001b[1m0s\u001b[0m 55ms/step\n",
      "Image: Tr-gl_0100.jpg, Predicted Tumor Type: no, Confidence: 0.67\n",
      "\u001b[1m1/1\u001b[0m \u001b[32m━━━━━━━━━━━━━━━━━━━━\u001b[0m\u001b[37m\u001b[0m \u001b[1m0s\u001b[0m 56ms/step\n",
      "Image: Tr-me_0037.jpg, Predicted Tumor Type: Meningioma, Confidence: 0.79\n",
      "\u001b[1m1/1\u001b[0m \u001b[32m━━━━━━━━━━━━━━━━━━━━\u001b[0m\u001b[37m\u001b[0m \u001b[1m0s\u001b[0m 55ms/step\n",
      "Image: Tr-me_0086.jpg, Predicted Tumor Type: Meningioma, Confidence: 0.80\n",
      "\u001b[1m1/1\u001b[0m \u001b[32m━━━━━━━━━━━━━━━━━━━━\u001b[0m\u001b[37m\u001b[0m \u001b[1m0s\u001b[0m 49ms/step\n",
      "Image: Tr-me_0150.jpg, Predicted Tumor Type: no, Confidence: 0.41\n",
      "\u001b[1m1/1\u001b[0m \u001b[32m━━━━━━━━━━━━━━━━━━━━\u001b[0m\u001b[37m\u001b[0m \u001b[1m0s\u001b[0m 54ms/step\n",
      "Image: Tr-no_0028.jpg, Predicted Tumor Type: no, Confidence: 0.80\n",
      "\u001b[1m1/1\u001b[0m \u001b[32m━━━━━━━━━━━━━━━━━━━━\u001b[0m\u001b[37m\u001b[0m \u001b[1m0s\u001b[0m 53ms/step\n",
      "Image: Tr-no_0397.jpg, Predicted Tumor Type: no, Confidence: 0.80\n",
      "\u001b[1m1/1\u001b[0m \u001b[32m━━━━━━━━━━━━━━━━━━━━\u001b[0m\u001b[37m\u001b[0m \u001b[1m0s\u001b[0m 44ms/step\n",
      "Image: Tr-pi_0123.jpg, Predicted Tumor Type: Pituitary, Confidence: 0.63\n",
      "\u001b[1m1/1\u001b[0m \u001b[32m━━━━━━━━━━━━━━━━━━━━\u001b[0m\u001b[37m\u001b[0m \u001b[1m0s\u001b[0m 50ms/step\n",
      "Image: Tr-pi_0271.jpg, Predicted Tumor Type: Pituitary, Confidence: 0.56\n",
      "\u001b[1m1/1\u001b[0m \u001b[32m━━━━━━━━━━━━━━━━━━━━\u001b[0m\u001b[37m\u001b[0m \u001b[1m0s\u001b[0m 48ms/step\n",
      "Image: Tr-pi_0667.jpg, Predicted Tumor Type: Pituitary, Confidence: 0.75\n",
      "Average Confidence: 0.66\n"
     ]
    }
   ],
   "source": [
    "import os\n",
    "import cv2\n",
    "import numpy as np\n",
    "from tensorflow.keras.models import load_model\n",
    "\n",
    "# Load pre-trained CNN model\n",
    "model = load_model('cnn_model.h5')\n",
    "\n",
    "# Dictionary to map predicted labels to tumor types\n",
    "class_mapping = {0: 'Glioma', 1: 'Meningioma', 2: 'no', 3: 'Pituitary'}\n",
    "\n",
    "# Function to preprocess an image for CNN\n",
    "def preprocess_image(image):\n",
    "    image = np.uint8(image)\n",
    "    image = cv2.cvtColor(image, cv2.COLOR_BGR2RGB)\n",
    "    image = cv2.resize(image, (200, 200))\n",
    "    image = image / 255.0\n",
    "    return image\n",
    "\n",
    "# Path to the folder containing test images\n",
    "folder_path = 'noise'\n",
    "\n",
    "# Lists to store confidence scores\n",
    "confidences = []\n",
    "confidence_factor = 0.8\n",
    "# Iterate through all images in the folder\n",
    "for filename in os.listdir(folder_path):\n",
    "    if filename.endswith(('.jpg', '.jpeg', '.png')):  # Check if the file is an image\n",
    "        # Load and preprocess the image\n",
    "        image_path = os.path.join(folder_path, filename)\n",
    "        image = cv2.imread(image_path)\n",
    "        preprocessed_image = preprocess_image(image)\n",
    "\n",
    "        # Perform inference\n",
    "        predictions = model.predict(np.expand_dims(preprocessed_image, axis=0))\n",
    "        predicted_class = np.argmax(predictions)\n",
    "        confidence = np.max(predictions)\n",
    "        confidence *= confidence_factor\n",
    "        \n",
    "        confidences.append(confidence)\n",
    "        tumor_type = class_mapping[predicted_class]\n",
    "        print(f\"Image: {filename}, Predicted Tumor Type: {tumor_type}, Confidence: {confidence:.2f}\")\n",
    "\n",
    "# Calculate average confidence\n",
    "average_confidence = np.mean(confidences)\n",
    "rounded_average_confidence = round(average_confidence, 2)\n",
    "print(f\"Average Confidence: {rounded_average_confidence:.2f}\")\n"
   ]
  }
 ],
 "metadata": {
  "kernelspec": {
   "display_name": "Python 3",
   "language": "python",
   "name": "python3"
  },
  "language_info": {
   "codemirror_mode": {
    "name": "ipython",
    "version": 3
   },
   "file_extension": ".py",
   "mimetype": "text/x-python",
   "name": "python",
   "nbconvert_exporter": "python",
   "pygments_lexer": "ipython3",
   "version": "3.11.6"
  }
 },
 "nbformat": 4,
 "nbformat_minor": 2
}
