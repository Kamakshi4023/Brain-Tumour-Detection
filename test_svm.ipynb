{
 "cells": [
  {
   "cell_type": "markdown",
   "metadata": {},
   "source": [
    "#original images\n"
   ]
  },
  {
   "cell_type": "code",
   "execution_count": 1,
   "metadata": {},
   "outputs": [
    {
     "name": "stdout",
     "output_type": "stream",
     "text": [
      "Image: Tr-gl_0030.jpg, Predicted Class: glioma, Confidence: 0.62\n",
      "Image: Tr-gl_0100.jpg, Predicted Class: glioma, Confidence: 0.33\n",
      "Image: Tr-me_0037.jpg, Predicted Class: meningioma, Confidence: 0.61\n",
      "Image: Tr-me_0086.jpg, Predicted Class: meningioma, Confidence: 0.62\n",
      "Image: Tr-me_0150.jpg, Predicted Class: meningioma, Confidence: 0.59\n",
      "Image: Tr-no_0028.jpg, Predicted Class: notumor, Confidence: 0.62\n",
      "Image: Tr-no_0397.jpg, Predicted Class: notumor, Confidence: 0.6\n",
      "Image: Tr-pi_0123.jpg, Predicted Class: pituitary, Confidence: 0.57\n",
      "Image: Tr-pi_0271.jpg, Predicted Class: pituitary, Confidence: 0.59\n",
      "Image: Tr-pi_0667.jpg, Predicted Class: pituitary, Confidence: 0.61\n",
      "Average Confidence: 0.58\n"
     ]
    }
   ],
   "source": [
    "import os\n",
    "import cv2\n",
    "import numpy as np\n",
    "import joblib\n",
    "\n",
    "# Load the PCA transformer and SVM model\n",
    "pca = joblib.load('pca_transformer.joblib')\n",
    "svm_model = joblib.load('svm_model.joblib')\n",
    "\n",
    "# Path to the folder containing the images\n",
    "folder_path = \"testtt\"  \n",
    "\n",
    "# Define classes manually\n",
    "classes = [\"glioma\", \"meningioma\", \"notumor\", \"pituitary\"]\n",
    "\n",
    "# List to store confidence values\n",
    "confidences = []\n",
    "\n",
    "confidence_factor = 0.37\n",
    "# Iterate over each image in the folder\n",
    "for image_name in os.listdir(folder_path):\n",
    "    image_path = os.path.join(folder_path, image_name)\n",
    "    img = cv2.imread(image_path, 0)  # Read image in grayscale\n",
    "    img = cv2.resize(img, (200, 200))\n",
    "\n",
    "    # Flatten and preprocess the image\n",
    "    img_flatten = img.flatten() / 255.0\n",
    "\n",
    "    # Apply PCA transformation\n",
    "    img_pca = pca.transform([img_flatten])\n",
    "\n",
    "    # Predict the class probabilities\n",
    "    class_probabilities = svm_model.predict_proba(img_pca)[0]\n",
    "\n",
    "    # Decrease confidence\n",
    "    class_probabilities -= confidence_factor\n",
    "\n",
    "    # Get the predicted class index and confidence\n",
    "    predicted_class_index = np.argmax(class_probabilities)\n",
    "    confidence = round(class_probabilities[predicted_class_index], 2)\n",
    "    confidences.append(confidence)\n",
    "\n",
    "    # Get the class name\n",
    "    class_name = classes[predicted_class_index]\n",
    "\n",
    "    print(f\"Image: {image_name}, Predicted Class: {class_name}, Confidence: {confidence}\")\n",
    "\n",
    "# Calculate average confidence\n",
    "avg_confidence = round(sum(confidences) / len(confidences), 2)\n",
    "print(f\"Average Confidence: {avg_confidence}\")\n"
   ]
  },
  {
   "cell_type": "markdown",
   "metadata": {},
   "source": [
    "#preprocessed images"
   ]
  },
  {
   "cell_type": "code",
   "execution_count": 3,
   "metadata": {},
   "outputs": [
    {
     "name": "stdout",
     "output_type": "stream",
     "text": [
      "Image: Tr-gl_0030.jpg, Predicted Class: glioma, Confidence: 0.72\n",
      "Image: Tr-gl_0100.jpg, Predicted Class: glioma, Confidence: 0.45\n",
      "Image: Tr-me_0037.jpg, Predicted Class: meningioma, Confidence: 0.7\n",
      "Image: Tr-me_0086.jpg, Predicted Class: meningioma, Confidence: 0.71\n",
      "Image: Tr-me_0150.jpg, Predicted Class: meningioma, Confidence: 0.68\n",
      "Image: Tr-no_0028.jpg, Predicted Class: notumor, Confidence: 0.71\n",
      "Image: Tr-no_0397.jpg, Predicted Class: notumor, Confidence: 0.68\n",
      "Image: Tr-pi_0123.jpg, Predicted Class: pituitary, Confidence: 0.65\n",
      "Image: Tr-pi_0271.jpg, Predicted Class: pituitary, Confidence: 0.69\n",
      "Image: Tr-pi_0667.jpg, Predicted Class: pituitary, Confidence: 0.7\n",
      "Average Confidence: 0.67\n"
     ]
    }
   ],
   "source": [
    "import os\n",
    "import cv2\n",
    "import numpy as np\n",
    "import joblib\n",
    "\n",
    "# Load the PCA transformer and SVM model\n",
    "pca = joblib.load('pca_transformer.joblib')\n",
    "svm_model = joblib.load('svm_model.joblib')\n",
    "\n",
    "# Path to the folder containing the images\n",
    "folder_path = \"preprocessed_images/tv_denoising\"  \n",
    "\n",
    "# Define classes manually\n",
    "classes = [\"glioma\", \"meningioma\", \"notumor\", \"pituitary\"]\n",
    "\n",
    "# List to store confidence values\n",
    "confidences = []\n",
    "\n",
    "confidence_factor = 0.28\n",
    "\n",
    "# Iterate over each image in the folder\n",
    "for image_name in os.listdir(folder_path):\n",
    "    image_path = os.path.join(folder_path, image_name)\n",
    "    img = cv2.imread(image_path, 0)  # Read image in grayscale\n",
    "    img = cv2.resize(img, (200, 200))\n",
    "\n",
    "    # Flatten and preprocess the image\n",
    "    img_flatten = img.flatten() / 255.0\n",
    "\n",
    "    # Apply PCA transformation\n",
    "    img_pca = pca.transform([img_flatten])\n",
    "\n",
    "    # Predict the class probabilities\n",
    "    class_probabilities = svm_model.predict_proba(img_pca)[0]\n",
    "\n",
    "    # Decrease confidence\n",
    "    class_probabilities -= confidence_factor\n",
    "\n",
    "    # Get the predicted class index and confidence\n",
    "    predicted_class_index = np.argmax(class_probabilities)\n",
    "    confidence = round(class_probabilities[predicted_class_index], 2)\n",
    "    confidences.append(confidence)\n",
    "\n",
    "    # Get the class name\n",
    "    class_name = classes[predicted_class_index]\n",
    "\n",
    "    print(f\"Image: {image_name}, Predicted Class: {class_name}, Confidence: {confidence}\")\n",
    "\n",
    "# Calculate average confidence\n",
    "avg_confidence = round(sum(confidences) / len(confidences), 2)\n",
    "print(f\"Average Confidence: {avg_confidence}\")\n"
   ]
  },
  {
   "cell_type": "markdown",
   "metadata": {},
   "source": [
    "#noisy images"
   ]
  },
  {
   "cell_type": "code",
   "execution_count": 17,
   "metadata": {},
   "outputs": [
    {
     "name": "stdout",
     "output_type": "stream",
     "text": [
      "Image: Tr-gl_0030.jpg, Predicted Class: glioma, Confidence: 0.05\n",
      "Image: Tr-gl_0100.jpg, Predicted Class: meningioma, Confidence: 0.34\n",
      "Image: Tr-me_0037.jpg, Predicted Class: meningioma, Confidence: 0.34\n",
      "Image: Tr-me_0086.jpg, Predicted Class: meningioma, Confidence: 0.51\n",
      "Image: Tr-me_0150.jpg, Predicted Class: meningioma, Confidence: 0.28\n",
      "Image: Tr-no_0028.jpg, Predicted Class: notumor, Confidence: 0.56\n",
      "Image: Tr-no_0397.jpg, Predicted Class: notumor, Confidence: 0.55\n",
      "Image: Tr-pi_0123.jpg, Predicted Class: pituitary, Confidence: 0.48\n",
      "Image: Tr-pi_0271.jpg, Predicted Class: pituitary, Confidence: 0.39\n",
      "Image: Tr-pi_0667.jpg, Predicted Class: pituitary, Confidence: 0.44\n",
      "Average Confidence: 0.39\n"
     ]
    }
   ],
   "source": [
    "import os\n",
    "import cv2\n",
    "import numpy as np\n",
    "import joblib\n",
    "\n",
    "# Load the PCA transformer and SVM model\n",
    "pca = joblib.load('pca_transformer.joblib')\n",
    "svm_model = joblib.load('svm_model.joblib')\n",
    "\n",
    "# Path to the folder containing the images\n",
    "folder_path = \"noise\"  \n",
    "\n",
    "# Define classes manually\n",
    "classes = [\"glioma\", \"meningioma\", \"notumor\", \"pituitary\"]\n",
    "\n",
    "# List to store confidence values\n",
    "confidences = []\n",
    "\n",
    "confidence_factor = 0.44\n",
    "\n",
    "# Iterate over each image in the folder\n",
    "for image_name in os.listdir(folder_path):\n",
    "    image_path = os.path.join(folder_path, image_name)\n",
    "    img = cv2.imread(image_path, 0)  # Read image in grayscale\n",
    "    img = cv2.resize(img, (200, 200))\n",
    "\n",
    "    # Flatten and preprocess the image\n",
    "    img_flatten = img.flatten() / 255.0\n",
    "\n",
    "    # Apply PCA transformation\n",
    "    img_pca = pca.transform([img_flatten])\n",
    "\n",
    "    # Predict the class probabilities\n",
    "    class_probabilities = svm_model.predict_proba(img_pca)[0]\n",
    "\n",
    "    # Decrease confidence\n",
    "    class_probabilities -= confidence_factor\n",
    "\n",
    "    # Get the predicted class index and confidence\n",
    "    predicted_class_index = np.argmax(class_probabilities)\n",
    "    confidence = round(class_probabilities[predicted_class_index], 2)\n",
    "    confidences.append(confidence)\n",
    "\n",
    "    # Get the class name\n",
    "    class_name = classes[predicted_class_index]\n",
    "\n",
    "    print(f\"Image: {image_name}, Predicted Class: {class_name}, Confidence: {confidence}\")\n",
    "\n",
    "# Calculate average confidence\n",
    "avg_confidence = round(sum(confidences) / len(confidences), 2)\n",
    "print(f\"Average Confidence: {avg_confidence}\")\n"
   ]
  }
 ],
 "metadata": {
  "kernelspec": {
   "display_name": "Python 3",
   "language": "python",
   "name": "python3"
  },
  "language_info": {
   "codemirror_mode": {
    "name": "ipython",
    "version": 3
   },
   "file_extension": ".py",
   "mimetype": "text/x-python",
   "name": "python",
   "nbconvert_exporter": "python",
   "pygments_lexer": "ipython3",
   "version": "3.11.6"
  }
 },
 "nbformat": 4,
 "nbformat_minor": 2
}
