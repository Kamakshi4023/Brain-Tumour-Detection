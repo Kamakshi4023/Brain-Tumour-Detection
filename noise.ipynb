{
 "cells": [
  {
   "cell_type": "code",
   "execution_count": 10,
   "metadata": {},
   "outputs": [
    {
     "name": "stdout",
     "output_type": "stream",
     "text": [
      "Noisy image 1 saved: n_Tr-gl_0030.jpg\n",
      "Noisy image 2 saved: n_Tr-gl_0100.jpg\n",
      "Noisy image 3 saved: n_Tr-me_0037.jpg\n",
      "Noisy image 4 saved: n_Tr-me_0086.jpg\n",
      "Noisy image 5 saved: n_Tr-me_0150.jpg\n",
      "Noisy image 6 saved: n_Tr-no_0028.jpg\n",
      "Noisy image 7 saved: n_Tr-no_0397.jpg\n",
      "Noisy image 8 saved: n_Tr-pi_0123.jpg\n",
      "Noisy image 9 saved: n_Tr-pi_0271.jpg\n",
      "Noisy image 10 saved: n_Tr-pi_0667.jpg\n"
     ]
    }
   ],
   "source": [
    "import os\n",
    "import numpy as np\n",
    "import cv2\n",
    "\n",
    "# Function to add Gaussian noise to an image\n",
    "def add_gaussian_noise(image, mean=5, sigma=40): #10,91 for other codes\n",
    "    gaussian_noise = np.random.normal(mean, sigma, image.shape)\n",
    "    noisy_image = np.clip(image + gaussian_noise, 0, 255).astype(np.uint8)\n",
    "    return noisy_image\n",
    "\n",
    "# Folder containing the MRI images (replace 'path/to/your/images' with the actual path)\n",
    "images_folder = \"testtt\"\n",
    "\n",
    "# Output folder to save noisy images\n",
    "output_folder = 'noise'\n",
    "\n",
    "# Create the output folder if it doesn't exist\n",
    "os.makedirs(output_folder, exist_ok=True)\n",
    "\n",
    "# Process only the first 10 images\n",
    "for i, filename in enumerate(sorted(os.listdir(images_folder))[:10], 1):\n",
    "    if filename.endswith(\".jpg\") or filename.endswith(\".png\"):\n",
    "        # Load the original image\n",
    "        original_image_path = os.path.join(images_folder, filename)\n",
    "        original_image = cv2.imread(original_image_path, cv2.IMREAD_GRAYSCALE)\n",
    "\n",
    "        # Check if the image is loaded successfully\n",
    "        if original_image is None:\n",
    "            print(f\"Failed to load the original image: {original_image_path}\")\n",
    "            continue\n",
    "\n",
    "        # Add Gaussian noise to the original image\n",
    "        noisy_image = add_gaussian_noise(original_image)\n",
    "\n",
    "        # Save the noisy image with a new filename\n",
    "        output_filename = f'n_{filename}'\n",
    "        output_path = os.path.join(output_folder, output_filename)\n",
    "        cv2.imwrite(output_path, noisy_image)\n",
    "\n",
    "        # Print information about the processed image\n",
    "        print(f\"Noisy image {i} saved: {output_filename}\")\n"
   ]
  }
 ],
 "metadata": {
  "kernelspec": {
   "display_name": "Python 3",
   "language": "python",
   "name": "python3"
  },
  "language_info": {
   "codemirror_mode": {
    "name": "ipython",
    "version": 3
   },
   "file_extension": ".py",
   "mimetype": "text/x-python",
   "name": "python",
   "nbconvert_exporter": "python",
   "pygments_lexer": "ipython3",
   "version": "3.11.6"
  }
 },
 "nbformat": 4,
 "nbformat_minor": 2
}
